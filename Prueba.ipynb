{
 "cells": [
  {
   "cell_type": "markdown",
   "id": "f360526e-7512-45a4-b9c4-bae70b563942",
   "metadata": {},
   "source": [
    "Prueba "
   ]
  },
  {
   "cell_type": "code",
   "execution_count": null,
   "id": "4200a096-adb1-4887-b099-359c93be4c4f",
   "metadata": {},
   "outputs": [],
   "source": []
  }
 ],
 "metadata": {
  "kernelspec": {
   "display_name": "Python 3 (ipykernel)",
   "language": "python",
   "name": "python3"
  },
  "language_info": {
   "codemirror_mode": {
    "name": "ipython",
    "version": 3
   },
   "file_extension": ".py",
   "mimetype": "text/x-python",
   "name": "python",
   "nbconvert_exporter": "python",
   "pygments_lexer": "ipython3",
   "version": "3.11.8"
  }
 },
 "nbformat": 4,
 "nbformat_minor": 5
}
